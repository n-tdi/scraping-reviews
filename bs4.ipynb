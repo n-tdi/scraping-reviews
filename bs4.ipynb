{
 "cells": [
  {
   "cell_type": "code",
   "execution_count": 7,
   "metadata": {},
   "outputs": [
    {
     "name": "stdout",
     "output_type": "stream",
     "text": [
      "[{'name': 'Dwight Shrute',\n",
      "  'rating': 'Positive',\n",
      "  'text': 'I love stop signs. They are so easy to use. I love the way they '\n",
      "          'look.'},\n",
      " {'name': 'Micheal Scott',\n",
      "  'rating': 'Negative',\n",
      "  'text': 'I hate stop signs, they make it impossible to drive fast.    '},\n",
      " {'name': 'Jim Halpert',\n",
      "  'rating': 'Positive',\n",
      "  'text': 'I Love that stop signs protect me from crazy drivers. Cough Micheal '\n",
      "          'Cough.'},\n",
      " {'name': 'Andy Bernad',\n",
      "  'rating': 'Positive',\n",
      "  'text': 'Stop signs are good, right?'},\n",
      " {'name': 'Kevin Malone',\n",
      "  'rating': 'Negative',\n",
      "  'text': 'A stop sign made me miss the hours for the a donut shop. Terrible '\n",
      "          'service.'},\n",
      " {'name': 'Angela Martin',\n",
      "  'rating': 'Negative',\n",
      "  'text': 'Stop sign colors are horrible. I hate them. They should be purple.'},\n",
      " {'name': 'Stanley Hudson', 'rating': 'Negative', 'text': \"I don't care.\"},\n",
      " {'name': 'Toby Flenderson',\n",
      "  'rating': 'Positive',\n",
      "  'text': 'These stop signs really impact the world and make it a better '\n",
      "          'place. I Like it!'},\n",
      " {'name': 'Pam Beesly',\n",
      "  'rating': 'Positive',\n",
      "  'text': 'What Jim Halper said. I love stop signs.'},\n",
      " {'name': 'Oscar Martinez',\n",
      "  'rating': 'Negative',\n",
      "  'text': 'Terrible, ruined my day. I hate stop signs.'},\n",
      " {'name': 'Mose Schrute',\n",
      "  'rating': 'Negative',\n",
      "  'text': 'aIEfkjaegegkheaEFahoufeanfalHFE ouEAHFOUFHAEUfuaefoUBEQ!'},\n",
      " {'name': 'Meredith Palmer',\n",
      "  'rating': 'Negative',\n",
      "  'text': \"Not realy that enticing. Can't recommend for any reason.\"}]\n"
     ]
    }
   ],
   "source": [
    "import requests\n",
    "from bs4 import BeautifulSoup\n",
    "from pprint import pprint\n",
    "\n",
    "url = 'http://scrape.ntdi.world'\n",
    "data = requests.get(url)\n",
    "\n",
    "html = BeautifulSoup(data.text, 'html.parser')\n",
    "reviews = html.select('.review')\n",
    "\n",
    "my_data = []\n",
    "\n",
    "for review in reviews:\n",
    "\n",
    "    name = review.select('.name')[0].get_text()\n",
    "    rating = review.select('.rating')[0].get_text()\n",
    "    text = review.select('.text')[0].get_text()\n",
    "\n",
    "    my_data.append({\"name\": name, \"rating\": rating, \"text\": text})\n",
    "\n",
    "pprint(my_data)"
   ]
  }
 ],
 "metadata": {
  "kernelspec": {
   "display_name": "Python 3.10.4 64-bit",
   "language": "python",
   "name": "python3"
  },
  "language_info": {
   "codemirror_mode": {
    "name": "ipython",
    "version": 3
   },
   "file_extension": ".py",
   "mimetype": "text/x-python",
   "name": "python",
   "nbconvert_exporter": "python",
   "pygments_lexer": "ipython3",
   "version": "3.10.4"
  },
  "orig_nbformat": 4,
  "vscode": {
   "interpreter": {
    "hash": "aee8b7b246df8f9039afb4144a1f6fd8d2ca17a180786b69acc140d282b71a49"
   }
  }
 },
 "nbformat": 4,
 "nbformat_minor": 2
}
