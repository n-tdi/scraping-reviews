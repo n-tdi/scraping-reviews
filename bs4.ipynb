{
 "cells": [
  {
   "cell_type": "code",
   "execution_count": 5,
   "metadata": {},
   "outputs": [
    {
     "name": "stdout",
     "output_type": "stream",
     "text": [
      "[]\n"
     ]
    }
   ],
   "source": [
    "import requests\n",
    "from bs4 import BeautifulSoup\n",
    "from pprint import pprint\n",
    "\n",
    "url = 'http://scrape.ntdi.world'\n",
    "data = requests.get(url)\n",
    "\n",
    "html = BeautifulSoup(data.text, 'html.parser')\n",
    "articles = html.select('.review')\n",
    "\n",
    "my_data = []\n",
    "\n",
    "for article in articles:\n",
    "\n",
    "    name = article.select('.name')[0].get_text()\n",
    "    rating = article.select('.rating')[0].get_text()\n",
    "    text = article.select('.text')[0].get_text()\n",
    "\n",
    "    my_data.append({\"name\": name, \"rating\": rating, \"text\": text})\n",
    "\n",
    "pprint(my_data)"
   ]
  }
 ],
 "metadata": {
  "kernelspec": {
   "display_name": "Python 3.10.4 64-bit",
   "language": "python",
   "name": "python3"
  },
  "language_info": {
   "codemirror_mode": {
    "name": "ipython",
    "version": 3
   },
   "file_extension": ".py",
   "mimetype": "text/x-python",
   "name": "python",
   "nbconvert_exporter": "python",
   "pygments_lexer": "ipython3",
   "version": "3.10.4"
  },
  "orig_nbformat": 4,
  "vscode": {
   "interpreter": {
    "hash": "aee8b7b246df8f9039afb4144a1f6fd8d2ca17a180786b69acc140d282b71a49"
   }
  }
 },
 "nbformat": 4,
 "nbformat_minor": 2
}
